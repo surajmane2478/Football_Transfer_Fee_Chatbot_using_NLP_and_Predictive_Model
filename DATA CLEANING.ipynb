{
 "cells": [
  {
   "cell_type": "code",
   "execution_count": 2,
   "id": "2f557ef4-645b-40e1-9382-6e2577062b9c",
   "metadata": {},
   "outputs": [],
   "source": [
    "import warnings\n",
    "warnings.filterwarnings(action=\"ignore\")"
   ]
  },
  {
   "cell_type": "code",
   "execution_count": 3,
   "id": "34545760-e206-448f-8524-b0d97819b857",
   "metadata": {},
   "outputs": [],
   "source": [
    "import numpy as np\n",
    "import pandas as pd\n",
    "import seaborn as sns\n",
    "import matplotlib.pyplot as plt\n"
   ]
  },
  {
   "cell_type": "code",
   "execution_count": 26,
   "id": "de191ec3-775f-4918-9aea-a407d679e3ac",
   "metadata": {},
   "outputs": [],
   "source": [
    "df=pd.read_csv(\"transfers1.csv\")"
   ]
  },
  {
   "cell_type": "code",
   "execution_count": 5,
   "id": "8e658b6a-4744-4fe3-802a-d64f382a1cd6",
   "metadata": {},
   "outputs": [
    {
     "data": {
      "text/html": [
       "<div>\n",
       "<style scoped>\n",
       "    .dataframe tbody tr th:only-of-type {\n",
       "        vertical-align: middle;\n",
       "    }\n",
       "\n",
       "    .dataframe tbody tr th {\n",
       "        vertical-align: top;\n",
       "    }\n",
       "\n",
       "    .dataframe thead th {\n",
       "        text-align: right;\n",
       "    }\n",
       "</style>\n",
       "<table border=\"1\" class=\"dataframe\">\n",
       "  <thead>\n",
       "    <tr style=\"text-align: right;\">\n",
       "      <th></th>\n",
       "      <th>player_id</th>\n",
       "      <th>transfer_date</th>\n",
       "      <th>transfer_season</th>\n",
       "      <th>from_club_id</th>\n",
       "      <th>to_club_id</th>\n",
       "      <th>from_club_name</th>\n",
       "      <th>to_club_name</th>\n",
       "      <th>transfer_fee</th>\n",
       "      <th>market_value_in_eur</th>\n",
       "      <th>player_name</th>\n",
       "    </tr>\n",
       "  </thead>\n",
       "  <tbody>\n",
       "    <tr>\n",
       "      <th>0</th>\n",
       "      <td>16136</td>\n",
       "      <td>2026-07-01</td>\n",
       "      <td>26/27</td>\n",
       "      <td>417</td>\n",
       "      <td>123</td>\n",
       "      <td>OGC Nice</td>\n",
       "      <td>Retired</td>\n",
       "      <td>NaN</td>\n",
       "      <td>500000.0</td>\n",
       "      <td>Dante</td>\n",
       "    </tr>\n",
       "    <tr>\n",
       "      <th>1</th>\n",
       "      <td>1138758</td>\n",
       "      <td>2026-07-01</td>\n",
       "      <td>26/27</td>\n",
       "      <td>336</td>\n",
       "      <td>631</td>\n",
       "      <td>Sporting CP</td>\n",
       "      <td>Chelsea</td>\n",
       "      <td>52140000.0</td>\n",
       "      <td>45000000.0</td>\n",
       "      <td>Geovany Quenda</td>\n",
       "    </tr>\n",
       "    <tr>\n",
       "      <th>2</th>\n",
       "      <td>195778</td>\n",
       "      <td>2026-06-30</td>\n",
       "      <td>25/26</td>\n",
       "      <td>79</td>\n",
       "      <td>27</td>\n",
       "      <td>VfB Stuttgart</td>\n",
       "      <td>Bayern Munich</td>\n",
       "      <td>0.0</td>\n",
       "      <td>12000000.0</td>\n",
       "      <td>Alexander Nübel</td>\n",
       "    </tr>\n",
       "    <tr>\n",
       "      <th>3</th>\n",
       "      <td>569033</td>\n",
       "      <td>2026-06-30</td>\n",
       "      <td>25/26</td>\n",
       "      <td>39</td>\n",
       "      <td>27</td>\n",
       "      <td>1.FSV Mainz 05</td>\n",
       "      <td>Bayern Munich</td>\n",
       "      <td>0.0</td>\n",
       "      <td>4000000.0</td>\n",
       "      <td>Armindo Sieb</td>\n",
       "    </tr>\n",
       "    <tr>\n",
       "      <th>4</th>\n",
       "      <td>626913</td>\n",
       "      <td>2026-06-30</td>\n",
       "      <td>25/26</td>\n",
       "      <td>398</td>\n",
       "      <td>380</td>\n",
       "      <td>Lazio</td>\n",
       "      <td>Salernitana</td>\n",
       "      <td>0.0</td>\n",
       "      <td>15000000.0</td>\n",
       "      <td>Boulaye Dia</td>\n",
       "    </tr>\n",
       "    <tr>\n",
       "      <th>5</th>\n",
       "      <td>743395</td>\n",
       "      <td>2026-06-30</td>\n",
       "      <td>25/26</td>\n",
       "      <td>9010</td>\n",
       "      <td>15</td>\n",
       "      <td>FCV Dender EH</td>\n",
       "      <td>B. Leverkusen</td>\n",
       "      <td>0.0</td>\n",
       "      <td>1500000.0</td>\n",
       "      <td>Noah Mbamba</td>\n",
       "    </tr>\n",
       "    <tr>\n",
       "      <th>6</th>\n",
       "      <td>887834</td>\n",
       "      <td>2026-06-30</td>\n",
       "      <td>25/26</td>\n",
       "      <td>979</td>\n",
       "      <td>1023</td>\n",
       "      <td>Moreirense</td>\n",
       "      <td>Palmeiras</td>\n",
       "      <td>0.0</td>\n",
       "      <td>1000000.0</td>\n",
       "      <td>Michel</td>\n",
       "    </tr>\n",
       "    <tr>\n",
       "      <th>7</th>\n",
       "      <td>1047109</td>\n",
       "      <td>2026-06-30</td>\n",
       "      <td>25/26</td>\n",
       "      <td>2672</td>\n",
       "      <td>265</td>\n",
       "      <td>APO Levadiakos</td>\n",
       "      <td>Panathinaikos</td>\n",
       "      <td>0.0</td>\n",
       "      <td>300000.0</td>\n",
       "      <td>Georgios Katris</td>\n",
       "    </tr>\n",
       "    <tr>\n",
       "      <th>8</th>\n",
       "      <td>128223</td>\n",
       "      <td>2026-01-20</td>\n",
       "      <td>25/26</td>\n",
       "      <td>141</td>\n",
       "      <td>5</td>\n",
       "      <td>Galatasaray</td>\n",
       "      <td>AC Milan</td>\n",
       "      <td>0.0</td>\n",
       "      <td>13000000.0</td>\n",
       "      <td>Álvaro Morata</td>\n",
       "    </tr>\n",
       "    <tr>\n",
       "      <th>9</th>\n",
       "      <td>955213</td>\n",
       "      <td>2026-01-01</td>\n",
       "      <td>25/26</td>\n",
       "      <td>10690</td>\n",
       "      <td>36949</td>\n",
       "      <td>Zorya Lugansk</td>\n",
       "      <td>Dynamo Kyiv U19</td>\n",
       "      <td>0.0</td>\n",
       "      <td>50000.0</td>\n",
       "      <td>Andriy Matkevych</td>\n",
       "    </tr>\n",
       "  </tbody>\n",
       "</table>\n",
       "</div>"
      ],
      "text/plain": [
       "   player_id transfer_date transfer_season  from_club_id  to_club_id  \\\n",
       "0      16136    2026-07-01           26/27           417         123   \n",
       "1    1138758    2026-07-01           26/27           336         631   \n",
       "2     195778    2026-06-30           25/26            79          27   \n",
       "3     569033    2026-06-30           25/26            39          27   \n",
       "4     626913    2026-06-30           25/26           398         380   \n",
       "5     743395    2026-06-30           25/26          9010          15   \n",
       "6     887834    2026-06-30           25/26           979        1023   \n",
       "7    1047109    2026-06-30           25/26          2672         265   \n",
       "8     128223    2026-01-20           25/26           141           5   \n",
       "9     955213    2026-01-01           25/26         10690       36949   \n",
       "\n",
       "   from_club_name     to_club_name  transfer_fee  market_value_in_eur  \\\n",
       "0        OGC Nice          Retired           NaN             500000.0   \n",
       "1     Sporting CP          Chelsea    52140000.0           45000000.0   \n",
       "2   VfB Stuttgart    Bayern Munich           0.0           12000000.0   \n",
       "3  1.FSV Mainz 05    Bayern Munich           0.0            4000000.0   \n",
       "4           Lazio      Salernitana           0.0           15000000.0   \n",
       "5   FCV Dender EH    B. Leverkusen           0.0            1500000.0   \n",
       "6     Moreirense         Palmeiras           0.0            1000000.0   \n",
       "7  APO Levadiakos    Panathinaikos           0.0             300000.0   \n",
       "8     Galatasaray         AC Milan           0.0           13000000.0   \n",
       "9   Zorya Lugansk  Dynamo Kyiv U19           0.0              50000.0   \n",
       "\n",
       "        player_name  \n",
       "0             Dante  \n",
       "1    Geovany Quenda  \n",
       "2   Alexander Nübel  \n",
       "3      Armindo Sieb  \n",
       "4       Boulaye Dia  \n",
       "5       Noah Mbamba  \n",
       "6            Michel  \n",
       "7   Georgios Katris  \n",
       "8     Álvaro Morata  \n",
       "9  Andriy Matkevych  "
      ]
     },
     "execution_count": 5,
     "metadata": {},
     "output_type": "execute_result"
    }
   ],
   "source": [
    "df.head(10)"
   ]
  },
  {
   "cell_type": "code",
   "execution_count": 6,
   "id": "641fd520-cd7a-47d4-8d3f-c8f69364198c",
   "metadata": {},
   "outputs": [
    {
     "data": {
      "text/plain": [
       "player_id                  0\n",
       "transfer_date              0\n",
       "transfer_season            0\n",
       "from_club_id               0\n",
       "to_club_id                 0\n",
       "from_club_name             0\n",
       "to_club_name               0\n",
       "transfer_fee           27715\n",
       "market_value_in_eur    30316\n",
       "player_name                0\n",
       "dtype: int64"
      ]
     },
     "execution_count": 6,
     "metadata": {},
     "output_type": "execute_result"
    }
   ],
   "source": [
    "df.isna().sum()"
   ]
  },
  {
   "cell_type": "code",
   "execution_count": 7,
   "id": "1638c880-5225-4c61-a8ae-7d59e66e3ed4",
   "metadata": {},
   "outputs": [
    {
     "data": {
      "text/html": [
       "<div>\n",
       "<style scoped>\n",
       "    .dataframe tbody tr th:only-of-type {\n",
       "        vertical-align: middle;\n",
       "    }\n",
       "\n",
       "    .dataframe tbody tr th {\n",
       "        vertical-align: top;\n",
       "    }\n",
       "\n",
       "    .dataframe thead th {\n",
       "        text-align: right;\n",
       "    }\n",
       "</style>\n",
       "<table border=\"1\" class=\"dataframe\">\n",
       "  <thead>\n",
       "    <tr style=\"text-align: right;\">\n",
       "      <th></th>\n",
       "      <th>player_id</th>\n",
       "      <th>from_club_id</th>\n",
       "      <th>to_club_id</th>\n",
       "      <th>transfer_fee</th>\n",
       "      <th>market_value_in_eur</th>\n",
       "    </tr>\n",
       "  </thead>\n",
       "  <tbody>\n",
       "    <tr>\n",
       "      <th>count</th>\n",
       "      <td>7.964600e+04</td>\n",
       "      <td>79646.000000</td>\n",
       "      <td>79646.000000</td>\n",
       "      <td>5.193100e+04</td>\n",
       "      <td>4.933000e+04</td>\n",
       "    </tr>\n",
       "    <tr>\n",
       "      <th>mean</th>\n",
       "      <td>4.232426e+05</td>\n",
       "      <td>17158.688220</td>\n",
       "      <td>12902.337556</td>\n",
       "      <td>1.115650e+06</td>\n",
       "      <td>2.488055e+06</td>\n",
       "    </tr>\n",
       "    <tr>\n",
       "      <th>std</th>\n",
       "      <td>2.694543e+05</td>\n",
       "      <td>23567.526887</td>\n",
       "      <td>20482.855861</td>\n",
       "      <td>5.258424e+06</td>\n",
       "      <td>5.901403e+06</td>\n",
       "    </tr>\n",
       "    <tr>\n",
       "      <th>min</th>\n",
       "      <td>3.333000e+03</td>\n",
       "      <td>1.000000</td>\n",
       "      <td>1.000000</td>\n",
       "      <td>0.000000e+00</td>\n",
       "      <td>1.000000e+04</td>\n",
       "    </tr>\n",
       "    <tr>\n",
       "      <th>25%</th>\n",
       "      <td>2.073020e+05</td>\n",
       "      <td>853.000000</td>\n",
       "      <td>589.000000</td>\n",
       "      <td>0.000000e+00</td>\n",
       "      <td>2.250000e+05</td>\n",
       "    </tr>\n",
       "    <tr>\n",
       "      <th>50%</th>\n",
       "      <td>3.711975e+05</td>\n",
       "      <td>6646.000000</td>\n",
       "      <td>2976.000000</td>\n",
       "      <td>0.000000e+00</td>\n",
       "      <td>6.000000e+05</td>\n",
       "    </tr>\n",
       "    <tr>\n",
       "      <th>75%</th>\n",
       "      <td>5.971530e+05</td>\n",
       "      <td>24226.000000</td>\n",
       "      <td>14685.000000</td>\n",
       "      <td>0.000000e+00</td>\n",
       "      <td>2.000000e+06</td>\n",
       "    </tr>\n",
       "    <tr>\n",
       "      <th>max</th>\n",
       "      <td>1.391239e+06</td>\n",
       "      <td>129264.000000</td>\n",
       "      <td>128258.000000</td>\n",
       "      <td>1.800000e+08</td>\n",
       "      <td>1.800000e+08</td>\n",
       "    </tr>\n",
       "  </tbody>\n",
       "</table>\n",
       "</div>"
      ],
      "text/plain": [
       "          player_id   from_club_id     to_club_id  transfer_fee  \\\n",
       "count  7.964600e+04   79646.000000   79646.000000  5.193100e+04   \n",
       "mean   4.232426e+05   17158.688220   12902.337556  1.115650e+06   \n",
       "std    2.694543e+05   23567.526887   20482.855861  5.258424e+06   \n",
       "min    3.333000e+03       1.000000       1.000000  0.000000e+00   \n",
       "25%    2.073020e+05     853.000000     589.000000  0.000000e+00   \n",
       "50%    3.711975e+05    6646.000000    2976.000000  0.000000e+00   \n",
       "75%    5.971530e+05   24226.000000   14685.000000  0.000000e+00   \n",
       "max    1.391239e+06  129264.000000  128258.000000  1.800000e+08   \n",
       "\n",
       "       market_value_in_eur  \n",
       "count         4.933000e+04  \n",
       "mean          2.488055e+06  \n",
       "std           5.901403e+06  \n",
       "min           1.000000e+04  \n",
       "25%           2.250000e+05  \n",
       "50%           6.000000e+05  \n",
       "75%           2.000000e+06  \n",
       "max           1.800000e+08  "
      ]
     },
     "execution_count": 7,
     "metadata": {},
     "output_type": "execute_result"
    }
   ],
   "source": [
    "df.describe()"
   ]
  },
  {
   "cell_type": "code",
   "execution_count": 8,
   "id": "dc7b7528-437f-4536-a2a9-871c26292528",
   "metadata": {},
   "outputs": [
    {
     "name": "stdout",
     "output_type": "stream",
     "text": [
      "<class 'pandas.core.frame.DataFrame'>\n",
      "RangeIndex: 79646 entries, 0 to 79645\n",
      "Data columns (total 10 columns):\n",
      " #   Column               Non-Null Count  Dtype  \n",
      "---  ------               --------------  -----  \n",
      " 0   player_id            79646 non-null  int64  \n",
      " 1   transfer_date        79646 non-null  object \n",
      " 2   transfer_season      79646 non-null  object \n",
      " 3   from_club_id         79646 non-null  int64  \n",
      " 4   to_club_id           79646 non-null  int64  \n",
      " 5   from_club_name       79646 non-null  object \n",
      " 6   to_club_name         79646 non-null  object \n",
      " 7   transfer_fee         51931 non-null  float64\n",
      " 8   market_value_in_eur  49330 non-null  float64\n",
      " 9   player_name          79646 non-null  object \n",
      "dtypes: float64(2), int64(3), object(5)\n",
      "memory usage: 6.1+ MB\n"
     ]
    }
   ],
   "source": [
    "df.info()"
   ]
  },
  {
   "cell_type": "code",
   "execution_count": 9,
   "id": "3589b447-2674-437f-bb90-e4cf1df7e9d8",
   "metadata": {},
   "outputs": [
    {
     "name": "stdout",
     "output_type": "stream",
     "text": [
      "(79646, 10)\n",
      "Index(['player_id', 'transfer_date', 'transfer_season', 'from_club_id',\n",
      "       'to_club_id', 'from_club_name', 'to_club_name', 'transfer_fee',\n",
      "       'market_value_in_eur', 'player_name'],\n",
      "      dtype='object')\n"
     ]
    }
   ],
   "source": [
    "print(df.shape)\n",
    "print(df.columns)"
   ]
  },
  {
   "cell_type": "code",
   "execution_count": 10,
   "id": "319e4298-58c7-4646-aa46-45a6b1d84233",
   "metadata": {},
   "outputs": [
    {
     "name": "stdout",
     "output_type": "stream",
     "text": [
      "Remaining rows after dropping null transfer fees: 51931\n"
     ]
    }
   ],
   "source": [
    "df = df[df['transfer_fee'].notna()].reset_index(drop=True)\n",
    "print(f\"Remaining rows after dropping null transfer fees: {len(df)}\")"
   ]
  },
  {
   "cell_type": "code",
   "execution_count": 11,
   "id": "922a5e3e-2382-4be0-a6cc-0e4e73736bde",
   "metadata": {},
   "outputs": [
    {
     "data": {
      "text/plain": [
       "player_id                  0\n",
       "transfer_date              0\n",
       "transfer_season            0\n",
       "from_club_id               0\n",
       "to_club_id                 0\n",
       "from_club_name             0\n",
       "to_club_name               0\n",
       "transfer_fee               0\n",
       "market_value_in_eur    10892\n",
       "player_name                0\n",
       "dtype: int64"
      ]
     },
     "execution_count": 11,
     "metadata": {},
     "output_type": "execute_result"
    }
   ],
   "source": [
    "df.isna().sum()"
   ]
  },
  {
   "cell_type": "code",
   "execution_count": 12,
   "id": "c41b47f5-c871-4bf0-bc79-afc70dba71b3",
   "metadata": {},
   "outputs": [
    {
     "name": "stdout",
     "output_type": "stream",
     "text": [
      "164\n"
     ]
    }
   ],
   "source": [
    "df['market_value_in_eur'] = df.groupby('transfer_season')['market_value_in_eur'].transform(\n",
    "    lambda x: x.fillna(x.median())\n",
    ")\n",
    "print(df['market_value_in_eur'].isna().sum())"
   ]
  },
  {
   "cell_type": "code",
   "execution_count": 13,
   "id": "18f76a01-d134-437c-964d-a2353c0ddbf1",
   "metadata": {},
   "outputs": [
    {
     "data": {
      "text/plain": [
       "player_id                0\n",
       "transfer_date            0\n",
       "transfer_season          0\n",
       "from_club_id             0\n",
       "to_club_id               0\n",
       "from_club_name           0\n",
       "to_club_name             0\n",
       "transfer_fee             0\n",
       "market_value_in_eur    164\n",
       "player_name              0\n",
       "dtype: int64"
      ]
     },
     "execution_count": 13,
     "metadata": {},
     "output_type": "execute_result"
    }
   ],
   "source": [
    "df.isna().sum()"
   ]
  },
  {
   "cell_type": "code",
   "execution_count": 14,
   "id": "47186db5-cd77-4c01-877c-68eaaa3d93b2",
   "metadata": {},
   "outputs": [
    {
     "name": "stdout",
     "output_type": "stream",
     "text": [
      "✅ Remaining nulls in market_value_in_eur: 0\n"
     ]
    }
   ],
   "source": [
    "# Step 1: Season-wise median (already applied — safe to re-run)\n",
    "df['market_value_in_eur'] = df.groupby('transfer_season')['market_value_in_eur'].transform(\n",
    "    lambda x: x.fillna(x.median())\n",
    ")\n",
    "\n",
    "# Step 2: Fill any remaining NaNs with overall median\n",
    "df['market_value_in_eur'].fillna(df['market_value_in_eur'].median(), inplace=True)\n",
    "\n",
    "# Confirm fix\n",
    "print(\"✅ Remaining nulls in market_value_in_eur:\", df['market_value_in_eur'].isna().sum())"
   ]
  },
  {
   "cell_type": "code",
   "execution_count": 15,
   "id": "76df4154-1788-4f9f-8886-47772d470e3c",
   "metadata": {},
   "outputs": [],
   "source": [
    "# Convert transfer_date to datetime (if not already done)\n",
    "df['transfer_date'] = pd.to_datetime(df['transfer_date'], errors='coerce')\n",
    "\n",
    "# Extract year and month from transfer_date\n",
    "df['transfer_year'] = df['transfer_date'].dt.year\n",
    "df['transfer_month'] = df['transfer_date'].dt.month\n",
    "\n",
    "# Create a binary feature: is this a high-profile transfer? (threshold: €10 million)\n",
    "df['is_big_transfer'] = df['market_value_in_eur'] > 10_000_000\n",
    "\n",
    "# Flag if player changed club (not an internal move)\n",
    "df['club_changed'] = df['from_club_name'] != df['to_club_name']\n",
    "\n",
    "# Ratio of market value to actual transfer fee (sanity check / model feature)\n",
    "df['market_fee_ratio'] = df['market_value_in_eur'] / (df['transfer_fee'] + 1)  # +1 to avoid divide by zero"
   ]
  },
  {
   "cell_type": "code",
   "execution_count": 16,
   "id": "586828bb-a036-46d4-a732-505943fcc148",
   "metadata": {},
   "outputs": [],
   "source": [
    "from sklearn.preprocessing import LabelEncoder\n",
    "\n",
    "le_from = LabelEncoder()\n",
    "le_to = LabelEncoder()\n",
    "le_season = LabelEncoder()\n",
    "\n",
    "df['from_club_encoded'] = le_from.fit_transform(df['from_club_name'])\n",
    "df['to_club_encoded'] = le_to.fit_transform(df['to_club_name'])\n",
    "df['season_encoded'] = le_season.fit_transform(df['transfer_season'])"
   ]
  },
  {
   "cell_type": "code",
   "execution_count": 17,
   "id": "4ddcf5fa-03aa-4bdf-be69-43a6b7f3e3f4",
   "metadata": {},
   "outputs": [],
   "source": [
    "# Feature list\n",
    "features = [\n",
    "    'market_value_in_eur',\n",
    "    'transfer_year', 'transfer_month',\n",
    "    'is_big_transfer', 'club_changed',\n",
    "    'from_club_encoded', 'to_club_encoded',\n",
    "    'season_encoded'\n",
    "]\n",
    "\n",
    "target = 'transfer_fee'"
   ]
  },
  {
   "cell_type": "code",
   "execution_count": 18,
   "id": "1e986ba1-f185-4602-acf0-4b0ac96cf4f2",
   "metadata": {},
   "outputs": [],
   "source": [
    "from sklearn.model_selection import train_test_split\n",
    "\n",
    "X = df[features]\n",
    "y = df[target]\n",
    "\n",
    "X_train, X_test, y_train, y_test = train_test_split(\n",
    "    X, y, test_size=0.2, random_state=42\n",
    ")"
   ]
  },
  {
   "cell_type": "code",
   "execution_count": 22,
   "id": "d220c5df-daaa-4e56-a298-322b2a075251",
   "metadata": {},
   "outputs": [
    {
     "name": "stdout",
     "output_type": "stream",
     "text": [
      "✅ MAE: 985264.54\n",
      "✅ R² Score: 0.5681\n"
     ]
    }
   ],
   "source": [
    "from sklearn.ensemble import RandomForestRegressor\n",
    "from sklearn.model_selection import train_test_split\n",
    "from sklearn.metrics import mean_absolute_error, r2_score\n",
    "\n",
    "# Define features and target\n",
    "features = [\n",
    "    'market_value_in_eur',\n",
    "    'transfer_year', 'transfer_month',\n",
    "    'is_big_transfer', 'club_changed',\n",
    "    'from_club_encoded', 'to_club_encoded',\n",
    "    'season_encoded'\n",
    "]\n",
    "target = 'transfer_fee'\n",
    "\n",
    "X = df[features]\n",
    "y = df[target]\n",
    "\n",
    "# Train-test split\n",
    "X_train, X_test, y_train, y_test = train_test_split(\n",
    "    X, y, test_size=0.2, random_state=42\n",
    ")\n",
    "\n",
    "# Train Random Forest\n",
    "model = RandomForestRegressor(n_estimators=100, random_state=42)\n",
    "model.fit(X_train, y_train)\n",
    "\n",
    "# Predict\n",
    "y_pred = model.predict(X_test)\n",
    "\n",
    "# Evaluate\n",
    "print(\"✅ MAE:\", round(mean_absolute_error(y_test, y_pred), 2))\n",
    "print(\"✅ R² Score:\", round(r2_score(y_test, y_pred), 4))"
   ]
  },
  {
   "cell_type": "code",
   "execution_count": 24,
   "id": "c59f143c-e6e2-4ae5-8b14-971ec74d4b27",
   "metadata": {},
   "outputs": [
    {
     "ename": "SyntaxError",
     "evalue": "invalid syntax (1215329147.py, line 1)",
     "output_type": "error",
     "traceback": [
      "\u001b[0;36m  File \u001b[0;32m\"/var/folders/cx/vh9mmkvj7yv_h7pplvcv__hr0000gn/T/ipykernel_3975/1215329147.py\"\u001b[0;36m, line \u001b[0;32m1\u001b[0m\n\u001b[0;31m    pip uninstall pandas\u001b[0m\n\u001b[0m        ^\u001b[0m\n\u001b[0;31mSyntaxError\u001b[0m\u001b[0;31m:\u001b[0m invalid syntax\n"
     ]
    }
   ],
   "source": [
    "pip uninstall pandas\n",
    "pip install pandas"
   ]
  },
  {
   "cell_type": "code",
   "execution_count": null,
   "id": "357758ac-f5a9-44b4-a3b4-947d37b56e11",
   "metadata": {},
   "outputs": [],
   "source": []
  }
 ],
 "metadata": {
  "kernelspec": {
   "display_name": "Python (your_env_name)",
   "language": "python",
   "name": "your_env_name"
  },
  "language_info": {
   "codemirror_mode": {
    "name": "ipython",
    "version": 3
   },
   "file_extension": ".py",
   "mimetype": "text/x-python",
   "name": "python",
   "nbconvert_exporter": "python",
   "pygments_lexer": "ipython3",
   "version": "3.9.19"
  }
 },
 "nbformat": 4,
 "nbformat_minor": 5
}
